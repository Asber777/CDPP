{
 "cells": [
  {
   "cell_type": "code",
   "execution_count": 71,
   "metadata": {},
   "outputs": [
    {
     "name": "stdout",
     "output_type": "stream",
     "text": [
      "way ,collision_time,planning_time,step_num\n",
      "169\n",
      "135\n",
      "146\n",
      "146\n",
      "181\n",
      "130\n",
      "292\n",
      "167\n",
      "130\n",
      "208\n",
      "199\n",
      "149\n",
      "173\n",
      "180\n",
      "218\n",
      "150\n",
      "356\n",
      "205\n",
      "146\n",
      "236\n",
      "156\n",
      "160\n",
      "160\n",
      "195\n",
      "194\n",
      "131\n",
      "364\n",
      "180\n",
      "133\n",
      "199\n",
      "171\n",
      "169\n",
      "213\n",
      "411\n",
      "405\n",
      "159\n",
      "541\n",
      "206\n",
      "143\n",
      "230\n",
      "174\n",
      "159\n",
      "156\n",
      "204\n",
      "181\n",
      "131\n",
      "362\n",
      "203\n",
      "133\n",
      "213\n",
      "179\n",
      "174\n",
      "157\n",
      "454\n",
      "205\n",
      "151\n",
      "408\n",
      "201\n",
      "153\n",
      "220\n"
     ]
    },
    {
     "name": "stderr",
     "output_type": "stream",
     "text": [
      "<ipython-input-71-1b353201acb8>:10: YAMLLoadWarning: calling yaml.load() without Loader=... is deprecated, as the default Loader is unsafe. Please read https://msg.pyyaml.org/load for full details.\n",
      "  data = yaml.load(file_data)\n"
     ]
    }
   ],
   "source": [
    "import yaml\n",
    "import os\n",
    "import numpy as np\n",
    "def get_yaml_data(yaml_file):\n",
    "    # 打开yaml文件\n",
    "    file = open(yaml_file, 'r', encoding=\"utf-8\")\n",
    "    file_data = file.read()\n",
    "    file.close()\n",
    "    # 将字符串转化为字典或列表\n",
    "    data = yaml.load(file_data)\n",
    "    return data\n",
    "file_name = ['AstarAPF2','AstarAPF3','PNAPF2','PNAPF3','PPAPF2','PPAPF3']\n",
    "save_name = ['save'+str(i) for i in range(10)]\n",
    "current_path = os.path.abspath(\".\")\n",
    "print(\"way ,collision_time,planning_time,step_num\")\n",
    "method = []\n",
    "for f in file_name:\n",
    "    collision_time_list = []\n",
    "    planning_time_list = []\n",
    "    step_num_list =[]\n",
    "    for s in save_name:\n",
    "        try:\n",
    "            yaml_path = os.path.join(current_path,f,s,\"setting_and_result.yaml\")\n",
    "            data = get_yaml_data(yaml_path)\n",
    "        except:\n",
    "            yaml_path = os.path.join(current_path,f,s,s+\"\\setting_and_result.yaml\")\n",
    "            data = get_yaml_data(yaml_path)\n",
    "        #APF_WAY = data['APF_WAY']\n",
    "        Collision_time = data['Collision_time']\n",
    "        #D_MAX = data['D_MAX']#\n",
    "        #PRM_DISTANCE = data['PRM_DISTANCE']#\n",
    "        #PRM_POINT_NUM = data['PRM_POINT_NUM']#\n",
    "        Planning_time = data['Planning_time']\n",
    "        #ROU = data['ROU']#\n",
    "        Step_num = data['Step_num']\n",
    "        collision_time_list.append(Collision_time)\n",
    "        planning_time_list.append(Planning_time)\n",
    "        step_num_list.append(Step_num)\n",
    "        print(Step_num)\n",
    "        #print(Collision_time,Planning_time,Step_num)\n",
    "    method.append(collision_time_list)\n",
    "    method.append(planning_time_list)\n",
    "    method.append(step_num_list)"
   ]
  },
  {
   "cell_type": "code",
   "execution_count": 63,
   "metadata": {},
   "outputs": [
    {
     "data": {
      "text/plain": [
       "([8.1, 2.0, 5.5, 1.2, 5.2, 0.6],\n",
       " [15.300049686431885,\n",
       "  30.205248022079466,\n",
       "  10.105817174911499,\n",
       "  24.141170930862426,\n",
       "  20.15014820098877,\n",
       "  25.589234924316408],\n",
       " [17.04, 20.12, 18.72, 26.48, 19.16, 23.02])"
      ]
     },
     "execution_count": 63,
     "metadata": {},
     "output_type": "execute_result"
    }
   ],
   "source": [
    "collision_time_list,planning_time_list,step_num_list"
   ]
  },
  {
   "cell_type": "code",
   "execution_count": 66,
   "metadata": {},
   "outputs": [
    {
     "data": {
      "image/png": "[encoded data removed]",
      "text/plain": [
       "<Figure size 432x288 with 1 Axes>"
      ]
     },
     "metadata": {
      "needs_background": "light"
     },
     "output_type": "display_data"
    }
   ],
   "source": [
    "# -*- coding: utf-8 -*-\n",
    "import numpy as np\n",
    "import matplotlib.pyplot as plt\n",
    "import matplotlib as mpl\n",
    "%matplotlib inline\n",
    "plt.rcParams['axes.unicode_minus'] = False  # 用来正常显示负号\n",
    "barWidth = 0.25\n",
    "# 设置柱子的高度\n",
    "bars1 = collision_time_list\n",
    "bars2 = planning_time_list\n",
    "bars3 = step_num_list\n",
    "r1 = np.arange(len(bars1))\n",
    "r2 = [x + barWidth for x in r1]\n",
    "r3 = [x + barWidth for x in r2]\n",
    "# 创建柱子\n",
    "plt.bar(r1, bars1, color='#FF0088', width=barWidth, edgecolor='white', label='average_collision_time')\n",
    "plt.bar(r2, bars2, color='#00BBFF', width=barWidth, edgecolor='white', label='average_planning_time')\n",
    "plt.bar(r3, bars3, color='#FF5511', width=barWidth, edgecolor='white', label='average_length/10')\n",
    "# 添加x轴名称\n",
    "plt.xticks([r + barWidth for r in range(len(bars1))],file_name)\n",
    "# 创建图例\n",
    "plt.legend()\n",
    "plt.savefig(\"result.png\")\n",
    "# 展示图片\n",
    "plt.show()\n",
    "\n",
    "# plt.bar(XX,YY,1,color=\"yellow\") \n",
    "# draw_pie(labels,)\n",
    "# draw_pie(labels,)"
   ]
  },
  {
   "cell_type": "code",
   "execution_count": null,
   "metadata": {},
   "outputs": [],
   "source": []
  }
 ],
 "metadata": {
  "kernelspec": {
   "display_name": "Python 3",
   "language": "python",
   "name": "python3"
  },
  "language_info": {
   "codemirror_mode": {
    "name": "ipython",
    "version": 3
   },
   "file_extension": ".py",
   "mimetype": "text/x-python",
   "name": "python",
   "nbconvert_exporter": "python",
   "pygments_lexer": "ipython3",
   "version": "3.8.5"
  }
 },
 "nbformat": 4,
 "nbformat_minor": 4
}
